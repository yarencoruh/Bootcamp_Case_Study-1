{
 "cells": [
  {
   "cell_type": "markdown",
   "metadata": {},
   "source": [
    "# Case Study"
   ]
  },
  {
   "cell_type": "markdown",
   "metadata": {},
   "source": [
    "### Introduction\n",
    "\n",
    "A mobile shopping platform is one of the best practices of creating a new business model based on big data and CRM technologies. This platform knows customers' preferences, shopping habits, even the number of children they have, the town their parents live, the activities they do in leisure times etc. This enables the platform to offer a personalized experience with customized campaigns designed for identified micro and macro segments based on customers' lifestyle and preferences through their transactions, without asking any questions. <br/>\n",
    "\n",
    "Data science is the heart of this platform to enhance a rich and customized reach to its each customer. Mass amount of data is collected from online and offline sources about each customer and data science team works on utilizing this data in an insightful manner to be used in identifying shopping behaviors, motivations and needs of each customer on the path of acquisition, retention and growth models. <br/>\n",
    "\n",
    "\n",
    "We prepared this notebook to test the knowledge of our fellow candidates. Good luck to all of you !!"
   ]
  },
  {
   "cell_type": "markdown",
   "metadata": {},
   "source": [
    "|   cid |   month |   spending |   transaction |\n",
    "|------:|--------:|-----------:|--------------:|\n",
    "|     1 |       3 |      52.57 |            27 |\n",
    "|     1 |       4 |      76.98 |            24 |\n",
    "|     1 |       7 |      66.42 |            26 |\n",
    "|     1 |       8 |      54.54 |            26 |\n",
    "|     1 |       9 |     128.21 |            27 |"
   ]
  },
  {
   "cell_type": "markdown",
   "metadata": {},
   "source": [
    "This is a sample transaction data of our customers:\n",
    "\n",
    "- **cid**: Customer Id column represents the unique id assigned to each customer\n",
    "- **month**: Month column represents the month of the transactions\n",
    "- **spending**: Spending column represents the total paid amount within the month\n",
    "- **transaction**: Transaction column represents the total number of transactions within the month\n",
    "\n",
    "**Feel free to add as many cell you need while solving the question and add comments explaining your answer.**"
   ]
  },
  {
   "cell_type": "markdown",
   "metadata": {},
   "source": [
    "## Question 1"
   ]
  },
  {
   "cell_type": "markdown",
   "metadata": {},
   "source": [
    "#### Data importing & wrangling\n",
    "1. Import the necessary packages and functions.\n",
    "2. Read the csv data.\n",
    "3. Write some code to explore the dataset. (row numbers, data types, etc.)\n",
    "4. Assess data visually as well as programmatically using pandas for quality and tidiness issues. "
   ]
  },
  {
   "cell_type": "code",
   "execution_count": 2,
   "metadata": {},
   "outputs": [],
   "source": [
    "# 1.Import all packages needed\n",
    "import numpy as np\n",
    "import pandas as pd\n",
    "import seaborn as sns\n",
    "import matplotlib.pyplot as plt\n",
    "import statsmodels.stats.api as sms\n",
    "import statistics\n",
    "pd.set_option('display.max_columns', None)\n",
    "pd.set_option('display.width', 500)\n",
    "pd.set_option('display.float_format', lambda x: '%.5f' % x)"
   ]
  },
  {
   "cell_type": "code",
   "execution_count": 3,
   "metadata": {},
   "outputs": [
    {
     "data": {
      "text/html": [
       "<div>\n",
       "<style scoped>\n",
       "    .dataframe tbody tr th:only-of-type {\n",
       "        vertical-align: middle;\n",
       "    }\n",
       "\n",
       "    .dataframe tbody tr th {\n",
       "        vertical-align: top;\n",
       "    }\n",
       "\n",
       "    .dataframe thead th {\n",
       "        text-align: right;\n",
       "    }\n",
       "</style>\n",
       "<table border=\"1\" class=\"dataframe\">\n",
       "  <thead>\n",
       "    <tr style=\"text-align: right;\">\n",
       "      <th></th>\n",
       "      <th>cid</th>\n",
       "      <th>month</th>\n",
       "      <th>spending</th>\n",
       "      <th>transaction</th>\n",
       "    </tr>\n",
       "  </thead>\n",
       "  <tbody>\n",
       "    <tr>\n",
       "      <th>0</th>\n",
       "      <td>1</td>\n",
       "      <td>3</td>\n",
       "      <td>52.57000</td>\n",
       "      <td>27</td>\n",
       "    </tr>\n",
       "    <tr>\n",
       "      <th>1</th>\n",
       "      <td>1</td>\n",
       "      <td>4</td>\n",
       "      <td>76.98000</td>\n",
       "      <td>24</td>\n",
       "    </tr>\n",
       "    <tr>\n",
       "      <th>2</th>\n",
       "      <td>1</td>\n",
       "      <td>7</td>\n",
       "      <td>66.42000</td>\n",
       "      <td>26</td>\n",
       "    </tr>\n",
       "    <tr>\n",
       "      <th>3</th>\n",
       "      <td>1</td>\n",
       "      <td>8</td>\n",
       "      <td>54.54000</td>\n",
       "      <td>26</td>\n",
       "    </tr>\n",
       "    <tr>\n",
       "      <th>4</th>\n",
       "      <td>1</td>\n",
       "      <td>9</td>\n",
       "      <td>128.21000</td>\n",
       "      <td>27</td>\n",
       "    </tr>\n",
       "    <tr>\n",
       "      <th>...</th>\n",
       "      <td>...</td>\n",
       "      <td>...</td>\n",
       "      <td>...</td>\n",
       "      <td>...</td>\n",
       "    </tr>\n",
       "    <tr>\n",
       "      <th>74664</th>\n",
       "      <td>10000</td>\n",
       "      <td>7</td>\n",
       "      <td>88.44000</td>\n",
       "      <td>27</td>\n",
       "    </tr>\n",
       "    <tr>\n",
       "      <th>74665</th>\n",
       "      <td>10000</td>\n",
       "      <td>8</td>\n",
       "      <td>150.80000</td>\n",
       "      <td>25</td>\n",
       "    </tr>\n",
       "    <tr>\n",
       "      <th>74666</th>\n",
       "      <td>10000</td>\n",
       "      <td>9</td>\n",
       "      <td>63.82000</td>\n",
       "      <td>24</td>\n",
       "    </tr>\n",
       "    <tr>\n",
       "      <th>74667</th>\n",
       "      <td>10000</td>\n",
       "      <td>10</td>\n",
       "      <td>75.96000</td>\n",
       "      <td>41</td>\n",
       "    </tr>\n",
       "    <tr>\n",
       "      <th>74668</th>\n",
       "      <td>10000</td>\n",
       "      <td>12</td>\n",
       "      <td>426.09000</td>\n",
       "      <td>43</td>\n",
       "    </tr>\n",
       "  </tbody>\n",
       "</table>\n",
       "<p>74669 rows × 4 columns</p>\n",
       "</div>"
      ],
      "text/plain": [
       "         cid  month  spending  transaction\n",
       "0          1      3  52.57000           27\n",
       "1          1      4  76.98000           24\n",
       "2          1      7  66.42000           26\n",
       "3          1      8  54.54000           26\n",
       "4          1      9 128.21000           27\n",
       "...      ...    ...       ...          ...\n",
       "74664  10000      7  88.44000           27\n",
       "74665  10000      8 150.80000           25\n",
       "74666  10000      9  63.82000           24\n",
       "74667  10000     10  75.96000           41\n",
       "74668  10000     12 426.09000           43\n",
       "\n",
       "[74669 rows x 4 columns]"
      ]
     },
     "execution_count": 3,
     "metadata": {},
     "output_type": "execute_result"
    }
   ],
   "source": [
    "# 2.Gathering the data\n",
    "df_ = pd.read_csv(r'C:\\Users\\Yaren Coruh\\python-data\\data.csv')\n",
    "df = df_.copy()\n",
    "df"
   ]
  },
  {
   "cell_type": "code",
   "execution_count": 4,
   "metadata": {},
   "outputs": [
    {
     "name": "stdout",
     "output_type": "stream",
     "text": [
      "--------------------- SHAPE ---------------------\n",
      "(74669, 4)\n",
      "---------------------- TYPES --------------------\n",
      "cid              int64\n",
      "month            int64\n",
      "spending       float64\n",
      "transaction      int64\n",
      "dtype: object\n",
      "--------------------- HEAD ----------------------\n",
      "   cid  month  spending  transaction\n",
      "0    1      3  52.57000           27\n",
      "1    1      4  76.98000           24\n",
      "2    1      7  66.42000           26\n",
      "3    1      8  54.54000           26\n",
      "4    1      9 128.21000           27\n",
      "--------------------- QUANTILES ---------------------\n",
      "             0.00000   0.05000    0.50000    0.95000    0.99000     1.00000\n",
      "cid          1.00000 502.00000 5015.00000 9503.00000 9899.00000 10000.00000\n",
      "month        1.00000   1.00000    6.00000   12.00000   12.00000    12.00000\n",
      "spending    25.92000  38.01000   79.49000  257.16600  495.80760  3512.16000\n",
      "transaction  2.00000  17.00000   28.00000   47.00000   62.00000   148.00000\n"
     ]
    }
   ],
   "source": [
    "# 3.Explore the data\n",
    "def check_df(dataframe, head=5):\n",
    "    print(\"--------------------- SHAPE ---------------------\")\n",
    "    print(dataframe.shape)\n",
    "\n",
    "    print(\"---------------------- TYPES --------------------\")\n",
    "    print(dataframe.dtypes)\n",
    "\n",
    "    print(\"--------------------- HEAD ----------------------\")\n",
    "    print(dataframe.head(head))\n",
    "\n",
    "    print(\"--------------------- QUANTILES ---------------------\")\n",
    "    print(dataframe.quantile([0, 0.05, 0.50, 0.95, 0.99, 1]).T)\n",
    "\n",
    "check_df(df)"
   ]
  },
  {
   "cell_type": "code",
   "execution_count": 7,
   "metadata": {},
   "outputs": [],
   "source": [
    "# 4.Check quality\n",
    "\n",
    "# Drop missing rows\n",
    "df = df.dropna()\n",
    "# Reset index for dropped rows\n",
    "df.reset_index(inplace=True, drop=True)"
   ]
  },
  {
   "cell_type": "markdown",
   "metadata": {},
   "source": [
    "#### Summarizing the data\n",
    "\n",
    "We would like you to calculate these values for each customers:\n",
    "1. **avg_spending:** average spending for each customer\n",
    "2. **std_spending:** standart deviation of spending for each customer\n",
    "3. **tot_spending:** total spending for each customer\n",
    "4. **tot_transaction:** total number of transaction for each customer\n",
    "5. **most_spending_month:** the month that each customer has the most spending    \n",
    "6. **most_transaction_month:** the month that each customer has the most transaction\n",
    "7. Print the results"
   ]
  },
  {
   "cell_type": "markdown",
   "metadata": {},
   "source": [
    "The output seen as:\n",
    "\n",
    "|   cid |   avg_spending |   std_spending |   tot_spending |   tot_transaction |   most_spending_month |   most_transaction_month |\n",
    "|------:|---------------:|---------------:|---------------:|------------------:|----------------------:|-------------------------:|\n",
    "|     1 |       102.39   |        86.3929 |         716.73 |               185 |                    11 |                       11 |\n",
    "|     2 |        71.3813 |        48.3853 |         571.05 |               266 |                     1 |                       12 |\n",
    "|     3 |        86.9167 |        50.4738 |         521.5  |               168 |                     9 |                        9 |\n",
    "|     4 |        86.3875 |        54.4722 |         345.55 |               101 |                    12 |                       12 |\n",
    "|     5 |       104.537  |        89.4826 |         627.22 |               169 |                    10 |                        6 |"
   ]
  },
  {
   "cell_type": "code",
   "execution_count": 8,
   "metadata": {},
   "outputs": [],
   "source": [
    "#  Use this and additional cells\n",
    "avg_spending = df.groupby(\"cid\").agg({\"spending\": \"mean\"})\n",
    "std_spending = df.groupby(\"cid\").agg({\"spending\": \"std\"})\n",
    "tot_spending = df.groupby(\"cid\").agg({\"spending\": \"sum\"})\n",
    "tot_transaction = df.groupby(\"cid\").agg({\"transaction\": \"sum\"})\n",
    "most_spending_month = df.loc[df.groupby(\"cid\")[\"spending\"].idxmax()][[\"cid\", \"month\"]].set_index(\"cid\")\n",
    "most_transaction_month = df.loc[df.groupby(\"cid\")[\"transaction\"].idxmax()][[\"cid\", \"month\"]].set_index(\"cid\")"
   ]
  },
  {
   "cell_type": "code",
   "execution_count": 9,
   "metadata": {},
   "outputs": [
    {
     "data": {
      "text/html": [
       "<div>\n",
       "<style scoped>\n",
       "    .dataframe tbody tr th:only-of-type {\n",
       "        vertical-align: middle;\n",
       "    }\n",
       "\n",
       "    .dataframe tbody tr th {\n",
       "        vertical-align: top;\n",
       "    }\n",
       "\n",
       "    .dataframe thead th {\n",
       "        text-align: right;\n",
       "    }\n",
       "</style>\n",
       "<table border=\"1\" class=\"dataframe\">\n",
       "  <thead>\n",
       "    <tr style=\"text-align: right;\">\n",
       "      <th></th>\n",
       "      <th>avg_spending</th>\n",
       "      <th>std_spending</th>\n",
       "      <th>tot_spending</th>\n",
       "      <th>tot_transaction</th>\n",
       "      <th>most_spending_month</th>\n",
       "      <th>most_transaction_month</th>\n",
       "    </tr>\n",
       "    <tr>\n",
       "      <th>cid</th>\n",
       "      <th></th>\n",
       "      <th></th>\n",
       "      <th></th>\n",
       "      <th></th>\n",
       "      <th></th>\n",
       "      <th></th>\n",
       "    </tr>\n",
       "  </thead>\n",
       "  <tbody>\n",
       "    <tr>\n",
       "      <th>1</th>\n",
       "      <td>102.39000</td>\n",
       "      <td>86.39289</td>\n",
       "      <td>716.73000</td>\n",
       "      <td>185</td>\n",
       "      <td>11</td>\n",
       "      <td>11</td>\n",
       "    </tr>\n",
       "    <tr>\n",
       "      <th>2</th>\n",
       "      <td>71.38125</td>\n",
       "      <td>48.38525</td>\n",
       "      <td>571.05000</td>\n",
       "      <td>266</td>\n",
       "      <td>1</td>\n",
       "      <td>12</td>\n",
       "    </tr>\n",
       "    <tr>\n",
       "      <th>3</th>\n",
       "      <td>86.91667</td>\n",
       "      <td>50.47377</td>\n",
       "      <td>521.50000</td>\n",
       "      <td>168</td>\n",
       "      <td>9</td>\n",
       "      <td>9</td>\n",
       "    </tr>\n",
       "    <tr>\n",
       "      <th>4</th>\n",
       "      <td>86.38750</td>\n",
       "      <td>54.47219</td>\n",
       "      <td>345.55000</td>\n",
       "      <td>101</td>\n",
       "      <td>12</td>\n",
       "      <td>12</td>\n",
       "    </tr>\n",
       "    <tr>\n",
       "      <th>5</th>\n",
       "      <td>104.53667</td>\n",
       "      <td>89.48259</td>\n",
       "      <td>627.22000</td>\n",
       "      <td>169</td>\n",
       "      <td>10</td>\n",
       "      <td>6</td>\n",
       "    </tr>\n",
       "  </tbody>\n",
       "</table>\n",
       "</div>"
      ],
      "text/plain": [
       "     avg_spending  std_spending  tot_spending  tot_transaction  most_spending_month  most_transaction_month\n",
       "cid                                                                                                        \n",
       "1       102.39000      86.39289     716.73000              185                   11                      11\n",
       "2        71.38125      48.38525     571.05000              266                    1                      12\n",
       "3        86.91667      50.47377     521.50000              168                    9                       9\n",
       "4        86.38750      54.47219     345.55000              101                   12                      12\n",
       "5       104.53667      89.48259     627.22000              169                   10                       6"
      ]
     },
     "execution_count": 9,
     "metadata": {},
     "output_type": "execute_result"
    }
   ],
   "source": [
    "df = pd.concat([avg_spending, std_spending, tot_spending, tot_transaction, most_spending_month, most_transaction_month], axis=1,)\n",
    "df.columns = ['avg_spending', 'std_spending', 'tot_spending', 'tot_transaction', 'most_spending_month', 'most_transaction_month']\n",
    "df.head(5)"
   ]
  },
  {
   "cell_type": "markdown",
   "metadata": {},
   "source": [
    "#### Data Understanding\n",
    "1. Plot the histogram for average spending of costomer\n",
    "2. Calculate mean, mode, median of the distribution (*you should round the values before calculating the mode*)\n",
    "3. Explain the type of the distributon that describes the pattern in the histogram; justify your answer with mean, mode median (*you can answer this question in the comment*)"
   ]
  },
  {
   "cell_type": "code",
   "execution_count": 10,
   "metadata": {},
   "outputs": [
    {
     "data": {
      "image/png": "[encoded data removed]",
      "text/plain": [
       "<Figure size 640x480 with 1 Axes>"
      ]
     },
     "metadata": {},
     "output_type": "display_data"
    }
   ],
   "source": [
    "# Plot the histogram for average spending of costomer\n",
    "# Create the histogram\n",
    "plt.hist(avg_spending, bins=20, color='blue')\n",
    "\n",
    "# Add labels and title\n",
    "plt.xlabel('Average Spending')\n",
    "plt.ylabel('Frequency')\n",
    "plt.title('Histogram of Average Customer Spending')\n",
    "\n",
    "# Display the histogram\n",
    "plt.show()"
   ]
  },
  {
   "cell_type": "code",
   "execution_count": 11,
   "metadata": {},
   "outputs": [
    {
     "data": {
      "text/html": [
       "<div>\n",
       "<style scoped>\n",
       "    .dataframe tbody tr th:only-of-type {\n",
       "        vertical-align: middle;\n",
       "    }\n",
       "\n",
       "    .dataframe tbody tr th {\n",
       "        vertical-align: top;\n",
       "    }\n",
       "\n",
       "    .dataframe thead th {\n",
       "        text-align: right;\n",
       "    }\n",
       "</style>\n",
       "<table border=\"1\" class=\"dataframe\">\n",
       "  <thead>\n",
       "    <tr style=\"text-align: right;\">\n",
       "      <th></th>\n",
       "      <th>count</th>\n",
       "      <th>mean</th>\n",
       "      <th>std</th>\n",
       "      <th>min</th>\n",
       "      <th>25%</th>\n",
       "      <th>50%</th>\n",
       "      <th>75%</th>\n",
       "      <th>max</th>\n",
       "    </tr>\n",
       "  </thead>\n",
       "  <tbody>\n",
       "    <tr>\n",
       "      <th>avg_spending</th>\n",
       "      <td>10000.00000</td>\n",
       "      <td>106.28649</td>\n",
       "      <td>36.82310</td>\n",
       "      <td>36.29500</td>\n",
       "      <td>82.40726</td>\n",
       "      <td>98.44500</td>\n",
       "      <td>120.73292</td>\n",
       "      <td>511.84400</td>\n",
       "    </tr>\n",
       "    <tr>\n",
       "      <th>std_spending</th>\n",
       "      <td>9997.00000</td>\n",
       "      <td>73.05443</td>\n",
       "      <td>64.63222</td>\n",
       "      <td>1.70413</td>\n",
       "      <td>36.49054</td>\n",
       "      <td>54.82643</td>\n",
       "      <td>86.42562</td>\n",
       "      <td>1213.75545</td>\n",
       "    </tr>\n",
       "    <tr>\n",
       "      <th>tot_spending</th>\n",
       "      <td>10000.00000</td>\n",
       "      <td>793.80835</td>\n",
       "      <td>322.10637</td>\n",
       "      <td>72.59000</td>\n",
       "      <td>578.65500</td>\n",
       "      <td>738.43000</td>\n",
       "      <td>948.31500</td>\n",
       "      <td>4083.04000</td>\n",
       "    </tr>\n",
       "    <tr>\n",
       "      <th>tot_transaction</th>\n",
       "      <td>10000.00000</td>\n",
       "      <td>220.24100</td>\n",
       "      <td>56.54082</td>\n",
       "      <td>31.00000</td>\n",
       "      <td>181.00000</td>\n",
       "      <td>219.00000</td>\n",
       "      <td>258.00000</td>\n",
       "      <td>452.00000</td>\n",
       "    </tr>\n",
       "    <tr>\n",
       "      <th>most_spending_month</th>\n",
       "      <td>10000.00000</td>\n",
       "      <td>6.46640</td>\n",
       "      <td>3.45153</td>\n",
       "      <td>1.00000</td>\n",
       "      <td>3.00000</td>\n",
       "      <td>6.00000</td>\n",
       "      <td>10.00000</td>\n",
       "      <td>12.00000</td>\n",
       "    </tr>\n",
       "    <tr>\n",
       "      <th>most_transaction_month</th>\n",
       "      <td>10000.00000</td>\n",
       "      <td>6.39340</td>\n",
       "      <td>3.44151</td>\n",
       "      <td>1.00000</td>\n",
       "      <td>3.00000</td>\n",
       "      <td>6.00000</td>\n",
       "      <td>9.00000</td>\n",
       "      <td>12.00000</td>\n",
       "    </tr>\n",
       "  </tbody>\n",
       "</table>\n",
       "</div>"
      ],
      "text/plain": [
       "                             count      mean       std      min       25%       50%       75%        max\n",
       "avg_spending           10000.00000 106.28649  36.82310 36.29500  82.40726  98.44500 120.73292  511.84400\n",
       "std_spending            9997.00000  73.05443  64.63222  1.70413  36.49054  54.82643  86.42562 1213.75545\n",
       "tot_spending           10000.00000 793.80835 322.10637 72.59000 578.65500 738.43000 948.31500 4083.04000\n",
       "tot_transaction        10000.00000 220.24100  56.54082 31.00000 181.00000 219.00000 258.00000  452.00000\n",
       "most_spending_month    10000.00000   6.46640   3.45153  1.00000   3.00000   6.00000  10.00000   12.00000\n",
       "most_transaction_month 10000.00000   6.39340   3.44151  1.00000   3.00000   6.00000   9.00000   12.00000"
      ]
     },
     "execution_count": 11,
     "metadata": {},
     "output_type": "execute_result"
    }
   ],
   "source": [
    "#2. Calculate mean, mode, median of the distribution (you should round the values before calculating the mode)\n",
    "df.describe().T"
   ]
  },
  {
   "cell_type": "code",
   "execution_count": 14,
   "metadata": {},
   "outputs": [
    {
     "data": {
      "text/plain": [
       "(105.56467820770283, 107.0082920189927)"
      ]
     },
     "execution_count": 14,
     "metadata": {},
     "output_type": "execute_result"
    }
   ],
   "source": [
    "sms.DescrStatsW(df['avg_spending']).tconfint_mean()\n",
    "# at a 95% confidence level"
   ]
  },
  {
   "cell_type": "code",
   "execution_count": 15,
   "metadata": {},
   "outputs": [
    {
     "data": {
      "text/plain": [
       "avg_spending              98.44500\n",
       "std_spending              54.82643\n",
       "tot_spending             738.43000\n",
       "tot_transaction          219.00000\n",
       "most_spending_month        6.00000\n",
       "most_transaction_month     6.00000\n",
       "dtype: float64"
      ]
     },
     "execution_count": 15,
     "metadata": {},
     "output_type": "execute_result"
    }
   ],
   "source": [
    "median = df.median().T\n",
    "median"
   ]
  },
  {
   "cell_type": "code",
   "execution_count": 16,
   "metadata": {},
   "outputs": [
    {
     "data": {
      "text/html": [
       "<div>\n",
       "<style scoped>\n",
       "    .dataframe tbody tr th:only-of-type {\n",
       "        vertical-align: middle;\n",
       "    }\n",
       "\n",
       "    .dataframe tbody tr th {\n",
       "        vertical-align: top;\n",
       "    }\n",
       "\n",
       "    .dataframe thead th {\n",
       "        text-align: right;\n",
       "    }\n",
       "</style>\n",
       "<table border=\"1\" class=\"dataframe\">\n",
       "  <thead>\n",
       "    <tr style=\"text-align: right;\">\n",
       "      <th></th>\n",
       "      <th>mode</th>\n",
       "    </tr>\n",
       "  </thead>\n",
       "  <tbody>\n",
       "    <tr>\n",
       "      <th>avg_spending</th>\n",
       "      <td>86.00000</td>\n",
       "    </tr>\n",
       "    <tr>\n",
       "      <th>std_spending</th>\n",
       "      <td>43.00000</td>\n",
       "    </tr>\n",
       "    <tr>\n",
       "      <th>tot_spending</th>\n",
       "      <td>615.00000</td>\n",
       "    </tr>\n",
       "    <tr>\n",
       "      <th>tot_transaction</th>\n",
       "      <td>215.00000</td>\n",
       "    </tr>\n",
       "    <tr>\n",
       "      <th>most_spending_month</th>\n",
       "      <td>4.00000</td>\n",
       "    </tr>\n",
       "    <tr>\n",
       "      <th>most_transaction_month</th>\n",
       "      <td>4.00000</td>\n",
       "    </tr>\n",
       "  </tbody>\n",
       "</table>\n",
       "</div>"
      ],
      "text/plain": [
       "                            mode\n",
       "avg_spending            86.00000\n",
       "std_spending            43.00000\n",
       "tot_spending           615.00000\n",
       "tot_transaction        215.00000\n",
       "most_spending_month      4.00000\n",
       "most_transaction_month   4.00000"
      ]
     },
     "execution_count": 16,
     "metadata": {},
     "output_type": "execute_result"
    }
   ],
   "source": [
    "df = df.round()\n",
    "mode = df.mode().T\n",
    "mode.columns = ['mode']\n",
    "mode"
   ]
  },
  {
   "cell_type": "code",
   "execution_count": 26,
   "metadata": {},
   "outputs": [],
   "source": [
    "#3. Explain the type of the distributon that describes the pattern in the histogram; justify your answer with mean, mode median (you can answer this question in the comment)\n",
    "# This histogram represents a RIGHT-SKEWED NORMAL DISTRIBUTION.\n",
    "# Characteristics of the distribution are:\n",
    "  # The order of magnitude should be mode < median < mean.\n",
    "  # Let's check our own results. For example, let's look at the results for \"tot_spending\":\n",
    "    # 615 < 738 < 793\n",
    "# The order of magnitude should also hold for all other variables."
   ]
  },
  {
   "cell_type": "markdown",
   "metadata": {},
   "source": [
    "## Question 2"
   ]
  },
  {
   "cell_type": "markdown",
   "metadata": {},
   "source": [
    "#### Write a function to replace all spaces in a string with '--' using an array \n",
    "Make sure that your function O(n) runtime complexity and do not use built-in replace() function.\n",
    "\n",
    "<b>Example input</b>: \"Mr John Smith, 13\" <br>\n",
    "<b>Example output</b>: \"Mr--John--Smith\" <br>\n",
    "\n",
    "You may assume that the array has sufficient space at the end to hold the additional characters, and you are given the true length of the string with the input. Here \"13\" represents the actual length of the string."
   ]
  },
  {
   "cell_type": "code",
   "execution_count": 18,
   "metadata": {},
   "outputs": [],
   "source": [
    "import re"
   ]
  },
  {
   "cell_type": "code",
   "execution_count": 19,
   "metadata": {},
   "outputs": [],
   "source": [
    "#test your solution here\n",
    "input_str1 = 'Mr John Smith, 13'\n",
    " # expected solution is 'Mr--John--Smith'\n",
    "input_str1 = 'Woow Data Science, 17'\n",
    "# expected solution is 'Woow--Data--Science'"
   ]
  },
  {
   "cell_type": "code",
   "execution_count": 20,
   "metadata": {},
   "outputs": [
    {
     "name": "stdout",
     "output_type": "stream",
     "text": [
      "Woow--Data--Science--17\n"
     ]
    }
   ],
   "source": [
    "input_str1 = re.sub(r'[.,; ]+', '--', input_str1)\n",
    "print(input_str1)"
   ]
  },
  {
   "cell_type": "markdown",
   "metadata": {},
   "source": [
    "## Question 3"
   ]
  },
  {
   "cell_type": "markdown",
   "metadata": {},
   "source": [
    "#### Using regular expression do following operations on **lorem_ipsum_text**:\n",
    "1. Delete all characters if they are not letters (A-z) and spaces \n",
    "2. Find the count of all occurrence of the words that ends with 'us' but not 'llus'\n",
    "3. Replace all 'ae' with 'æ', (*Don't forget 'Aenean => Ænean'*)\n",
    "3. Replace all the vowels following by 'll' if the word does not end with that vowel as:\n",
    "    - a => @ (ex: nullam => null@m, but nulla => nulla)\n",
    "    - e => 3\n",
    "    - i => %\n",
    "    - o => 0\n",
    "    - u => &\n",
    "\n",
    "Print the results"
   ]
  },
  {
   "cell_type": "code",
   "execution_count": 21,
   "metadata": {},
   "outputs": [],
   "source": [
    "import re\n",
    "\n",
    "lorem_ipsum_text = \"\"\"Lorem ipsum dolor sit amet, consectetur adipiscing elit. Ut sed rhoncus sem, et sagittis tellus. Donec hendrerit sapien ac purus pretium tincidunt. Orci varius natoque penatibus et magnis dis parturient montes, nascetur ridiculus mus. Pellentesque aliquet, lectus eget finibus aliquet, tortor quam semper justo, sed venenatis nunc lectus a arcu. Vivamus egestas rhoncus dolor, vitae sollicitudin urna. Integer eleifend purus eget porta sagittis. Phasellus malesuada ex nibh, a lobortis tellus tempor hendrerit. Integer tincidunt ante et varius semper. Maecenas quis finibus lacus.\n",
    "Sed luctus varius nisi, ac pulvinar erat gravida sit amet. Mauris gravida scelerisque nisi vel sollicitudin. In porta diam nec lorem bibendum semper. Cras ut imperdiet sem, vel bibendum risus. Nulla suscipit enim et efficitur interdum. Mauris consectetur porttitor ipsum. Praesent a tortor quis arcu porttitor ullamcorper ac et diam. Pellentesque rhoncus ultrices facilisis. Pellentesque lectus quam, vestibulum in erat non, venenatis vehicula augue. Praesent at viverra est. Integer libero neque, commodo ut ipsum ac, vulputate pharetra libero. Pellentesque in rhoncus magna. In hac habitasse platea dictumst.\n",
    "Praesent ultrices vel elit vel auctor. Nulla vitae ligula in elit mattis aliquam. Quisque vitae finibus enim. Praesent id maximus mauris. Nunc in pulvinar ligula. Donec condimentum condimentum ipsum aliquet volutpat. Maecenas non porta nunc. Donec risus nulla, pharetra in rhoncus sit amet, efficitur quis urna.\n",
    "Praesent diam ante, ultrices eget libero sit amet, semper auctor metus. Aliquam sit amet vulputate nibh. Suspendisse potenti. Duis dui ligula, consectetur egestas nibh nec, ullamcorper iaculis turpis. Ut volutpat lacus in leo porta, a lobortis diam placerat. Aenean iaculis, leo at semper fringilla, lectus magna rutrum neque, sollicitudin accumsan est felis at purus. Phasellus et scelerisque libero, ac malesuada nulla. Pellentesque maximus eget erat ac consequat. Ut elementum sapien sed leo aliquam, at ultrices elit venenatis. Duis accumsan finibus imperdiet. Vestibulum ante ipsum primis in faucibus orci luctus et ultrices posuere cubilia curae;\n",
    "Nulla augue nunc, pharetra quis tellus sed, egestas luctus mi. Fusce hendrerit sagittis urna eleifend varius. Vestibulum velit magna, aliquam nec tincidunt hendrerit, aliquam non ex. Maecenas ut sem imperdiet, semper metus et, gravida quam. Mauris placerat sed erat sed dapibus. Aliquam a suscipit elit. Fusce non dolor justo. Suspendisse dictum posuere faucibus. Proin pretium ipsum vitae orci sagittis placerat. Nulla hendrerit erat sit amet nunc tristique, quis lacinia enim lobortis. Aenean in pretium augue. Proin posuere purus at nulla ultrices molestie. Morbi et pharetra justo. In vel arcu elit. Nullam at est id odio bibendum iaculis nec dapibus velit.\n",
    "\"\"\""
   ]
  },
  {
   "cell_type": "code",
   "execution_count": 22,
   "metadata": {},
   "outputs": [
    {
     "name": "stdout",
     "output_type": "stream",
     "text": [
      "Lorem ipsum dolor sit amet consectetur adipiscing elit Ut sed rhoncus sem et sagittis tellus Donec hendrerit sapien ac purus pretium tincidunt Orci varius natoque penatibus et magnis dis parturient montes nascetur ridiculus mus Pellentesque aliquet lectus eget finibus aliquet tortor quam semper justo sed venenatis nunc lectus a arcu Vivamus egestas rhoncus dolor vitae sollicitudin urna Integer eleifend purus eget porta sagittis Phasellus malesuada ex nibh a lobortis tellus tempor hendrerit Integer tincidunt ante et varius semper Maecenas quis finibus lacus\n",
      "Sed luctus varius nisi ac pulvinar erat gravida sit amet Mauris gravida scelerisque nisi vel sollicitudin In porta diam nec lorem bibendum semper Cras ut imperdiet sem vel bibendum risus Nulla suscipit enim et efficitur interdum Mauris consectetur porttitor ipsum Praesent a tortor quis arcu porttitor ullamcorper ac et diam Pellentesque rhoncus ultrices facilisis Pellentesque lectus quam vestibulum in erat non venenatis vehicula augue Praesent at viverra est Integer libero neque commodo ut ipsum ac vulputate pharetra libero Pellentesque in rhoncus magna In hac habitasse platea dictumst\n",
      "Praesent ultrices vel elit vel auctor Nulla vitae ligula in elit mattis aliquam Quisque vitae finibus enim Praesent id maximus mauris Nunc in pulvinar ligula Donec condimentum condimentum ipsum aliquet volutpat Maecenas non porta nunc Donec risus nulla pharetra in rhoncus sit amet efficitur quis urna\n",
      "Praesent diam ante ultrices eget libero sit amet semper auctor metus Aliquam sit amet vulputate nibh Suspendisse potenti Duis dui ligula consectetur egestas nibh nec ullamcorper iaculis turpis Ut volutpat lacus in leo porta a lobortis diam placerat Aenean iaculis leo at semper fringilla lectus magna rutrum neque sollicitudin accumsan est felis at purus Phasellus et scelerisque libero ac malesuada nulla Pellentesque maximus eget erat ac consequat Ut elementum sapien sed leo aliquam at ultrices elit venenatis Duis accumsan finibus imperdiet Vestibulum ante ipsum primis in faucibus orci luctus et ultrices posuere cubilia curae\n",
      "Nulla augue nunc pharetra quis tellus sed egestas luctus mi Fusce hendrerit sagittis urna eleifend varius Vestibulum velit magna aliquam nec tincidunt hendrerit aliquam non ex Maecenas ut sem imperdiet semper metus et gravida quam Mauris placerat sed erat sed dapibus Aliquam a suscipit elit Fusce non dolor justo Suspendisse dictum posuere faucibus Proin pretium ipsum vitae orci sagittis placerat Nulla hendrerit erat sit amet nunc tristique quis lacinia enim lobortis Aenean in pretium augue Proin posuere purus at nulla ultrices molestie Morbi et pharetra justo In vel arcu elit Nullam at est id odio bibendum iaculis nec dapibus velit\n",
      "\n"
     ]
    }
   ],
   "source": [
    "# Delete all characters that are not letters (A-z) and spaces\n",
    "lorem_ipsum_text = re.sub(r'[^A-Za-z\\s]', '', lorem_ipsum_text)\n",
    "print(lorem_ipsum_text)"
   ]
  },
  {
   "cell_type": "code",
   "execution_count": 23,
   "metadata": {},
   "outputs": [
    {
     "name": "stdout",
     "output_type": "stream",
     "text": [
      "45\n"
     ]
    }
   ],
   "source": [
    "#Find the count of all occurrence of the words that ends with 'us' but not 'llus'\n",
    "count = len(re.findall(r'\\b(?!llus)\\w+us\\b', lorem_ipsum_text))\n",
    "print(count)"
   ]
  },
  {
   "cell_type": "code",
   "execution_count": 24,
   "metadata": {},
   "outputs": [
    {
     "name": "stdout",
     "output_type": "stream",
     "text": [
      "Lorem ipsum dolor sit amet consectetur adipiscing elit Ut sed rhoncus sem et sagittis tellus Donec hendrerit sapien ac purus pretium tincidunt Orci varius natoque penatibus et magnis dis parturient montes nascetur ridiculus mus Pellentesque aliquet lectus eget finibus aliquet tortor quam semper justo sed venenatis nunc lectus a arcu Vivamus egestas rhoncus dolor vitæ sollicitudin urna Integer eleifend purus eget porta sagittis Phasellus malesuada ex nibh a lobortis tellus tempor hendrerit Integer tincidunt ante et varius semper Mæcenas quis finibus lacus\n",
      "Sed luctus varius nisi ac pulvinar erat gravida sit amet Mauris gravida scelerisque nisi vel sollicitudin In porta diam nec lorem bibendum semper Cras ut imperdiet sem vel bibendum risus Nulla suscipit enim et efficitur interdum Mauris consectetur porttitor ipsum Præsent a tortor quis arcu porttitor ullamcorper ac et diam Pellentesque rhoncus ultrices facilisis Pellentesque lectus quam vestibulum in erat non venenatis vehicula augue Præsent at viverra est Integer libero neque commodo ut ipsum ac vulputate pharetra libero Pellentesque in rhoncus magna In hac habitasse platea dictumst\n",
      "Præsent ultrices vel elit vel auctor Nulla vitæ ligula in elit mattis aliquam Quisque vitæ finibus enim Præsent id maximus mauris Nunc in pulvinar ligula Donec condimentum condimentum ipsum aliquet volutpat Mæcenas non porta nunc Donec risus nulla pharetra in rhoncus sit amet efficitur quis urna\n",
      "Præsent diam ante ultrices eget libero sit amet semper auctor metus Aliquam sit amet vulputate nibh Suspendisse potenti Duis dui ligula consectetur egestas nibh nec ullamcorper iaculis turpis Ut volutpat lacus in leo porta a lobortis diam placerat ænean iaculis leo at semper fringilla lectus magna rutrum neque sollicitudin accumsan est felis at purus Phasellus et scelerisque libero ac malesuada nulla Pellentesque maximus eget erat ac consequat Ut elementum sapien sed leo aliquam at ultrices elit venenatis Duis accumsan finibus imperdiet Vestibulum ante ipsum primis in faucibus orci luctus et ultrices posuere cubilia curæ\n",
      "Nulla augue nunc pharetra quis tellus sed egestas luctus mi Fusce hendrerit sagittis urna eleifend varius Vestibulum velit magna aliquam nec tincidunt hendrerit aliquam non ex Mæcenas ut sem imperdiet semper metus et gravida quam Mauris placerat sed erat sed dapibus Aliquam a suscipit elit Fusce non dolor justo Suspendisse dictum posuere faucibus Proin pretium ipsum vitæ orci sagittis placerat Nulla hendrerit erat sit amet nunc tristique quis lacinia enim lobortis ænean in pretium augue Proin posuere purus at nulla ultrices molestie Morbi et pharetra justo In vel arcu elit Nullam at est id odio bibendum iaculis nec dapibus velit\n",
      "\n"
     ]
    }
   ],
   "source": [
    "# Replace all 'ae' with 'æ', (Don't forget 'Aenean => Ænean')\n",
    "lorem_ipsum_text = re.sub(r'ae', 'æ', lorem_ipsum_text, flags=re.IGNORECASE)\n",
    "print(lorem_ipsum_text)"
   ]
  },
  {
   "cell_type": "code",
   "execution_count": 25,
   "metadata": {},
   "outputs": [
    {
     "name": "stdout",
     "output_type": "stream",
     "text": [
      "L0r3m ips&m dol0r s%t am3t consectet&r adipisc%ng el%t Ut s3d rhonc&s s3m 3t sagitt%s tell&s D0n3c hendrer%t sapien @c pur&s pretium tincid&nt Orc% varius natoque penatib&s 3t magn%s d%s parturient m0nt3s nascet&r ridicul&s m&s Pellentesque aliquet lect&s eg3t finib&s aliquet tort0r quam semp3r j&st0 s3d venenat%s n&nc lect&s @ arc& Vivam&s eg3st@s rhonc&s dol0r v%tæ sollicit&d%n &rn@ Integ3r eleif3nd pur&s eg3t p0rt@ sagitt%s Phasell&s malesuad@ 3x n%bh @ lob0rt%s tell&s temp0r hendrer%t Integ3r tincid&nt ant3 3t varius semp3r Mæc3n@s quis finib&s lac&s\n",
      "S3d luct&s varius nis% @c p&lv%n@r 3r@t grav%d@ s%t am3t Maur%s grav%d@ scelerisque nis% v3l sollicit&d%n In p0rt@ diam n3c l0r3m bibend&m semp3r Cr@s &t imperdiet s3m v3l bibend&m ris&s N&ll@ suscip%t en%m 3t efficit&r interd&m Maur%s consectet&r porttit0r ips&m Præs3nt @ tort0r quis arc& porttit0r ullamc0rp3r @c 3t diam Pellentesque rhonc&s &ltr%c3s facilis%s Pellentesque lect&s quam vestibul&m %n 3r@t n0n venenat%s vehic&l@ augue Præs3nt @t v%v3rr@ 3st Integ3r liber0 neque commod0 &t ips&m @c vulputat3 phar3tr@ liber0 Pellentesque %n rhonc&s magn@ In h@c habitass3 platea dict&mst\n",
      "Præs3nt &ltr%c3s v3l el%t v3l auct0r N&ll@ v%tæ lig&l@ %n el%t matt%s aliquam Quisque v%tæ finib&s en%m Præs3nt %d maxim&s maur%s N&nc %n p&lv%n@r lig&l@ D0n3c condiment&m condiment&m ips&m aliquet vol&tp@t Mæc3n@s n0n p0rt@ n&nc D0n3c ris&s n&ll@ phar3tr@ %n rhonc&s s%t am3t efficit&r quis &rn@\n",
      "Præs3nt diam ant3 &ltr%c3s eg3t liber0 s%t am3t semp3r auct0r met&s Aliquam s%t am3t vulputat3 n%bh Suspend%ss3 potent% Duis dui lig&l@ consectet&r eg3st@s n%bh n3c ullamc0rp3r iac&l%s t&rp%s Ut vol&tp@t lac&s %n leo p0rt@ @ lob0rt%s diam plac3r@t ænean iac&l%s leo @t semp3r fring%ll@ lect&s magn@ rutr&m neque sollicit&d%n acc&ms@n 3st fel%s @t pur&s Phasell&s 3t scelerisque liber0 @c malesuad@ n&ll@ Pellentesque maxim&s eg3t 3r@t @c consequat Ut element&m sapien s3d leo aliquam @t &ltr%c3s el%t venenat%s Duis acc&ms@n finib&s imperdiet Vestibul&m ant3 ips&m prim%s %n faucib&s 0rc% luct&s 3t &ltr%c3s posuer3 cubilia c&ræ\n",
      "N&ll@ augue n&nc phar3tr@ quis tell&s s3d eg3st@s luct&s m% F&sc3 hendrer%t sagitt%s &rn@ eleif3nd varius Vestibul&m vel%t magn@ aliquam n3c tincid&nt hendrer%t aliquam n0n 3x Mæc3n@s &t s3m imperdiet semp3r met&s 3t grav%d@ quam Maur%s plac3r@t s3d 3r@t s3d dapib&s Aliquam @ suscip%t el%t F&sc3 n0n dol0r j&st0 Suspend%ss3 dict&m posuer3 faucib&s Proin pretium ips&m v%tæ 0rc% sagitt%s plac3r@t N&ll@ hendrer%t 3r@t s%t am3t n&nc tristique quis lacinia en%m lob0rt%s ænean %n pretium augue Proin posuer3 pur&s @t n&ll@ &ltr%c3s molestie M0rb% 3t phar3tr@ j&st0 In v3l arc& el%t N&ll@m @t 3st %d odio bibend&m iac&l%s n3c dapib&s vel%t\n",
      "\n"
     ]
    }
   ],
   "source": [
    "#Replace all the vowels following by 'll' if the word does not end with that vowel as:\n",
    "lorem_ipsum_text = re.sub(r'(?<![aeiouAEIOU])a(?=[^aeiouAEIOU]*\\b)', '@', lorem_ipsum_text)\n",
    "lorem_ipsum_text = re.sub(r'(?<![aeiouAEIOU])e(?=[^aeiouAEIOU]*\\b)', '3', lorem_ipsum_text)\n",
    "lorem_ipsum_text = re.sub(r'(?<![aeiouAEIOU])i(?=[^aeiouAEIOU]*\\b)', '%', lorem_ipsum_text)\n",
    "lorem_ipsum_text = re.sub(r'(?<![aeiouAEIOU])o(?=[^aeiouAEIOU]*\\b)', '0', lorem_ipsum_text)\n",
    "lorem_ipsum_text = re.sub(r'(?<![aeiouAEIOU])u(?=[^aeiouAEIOU]*\\b)', '&', lorem_ipsum_text)\n",
    "print(lorem_ipsum_text)"
   ]
  },
  {
   "cell_type": "markdown",
   "metadata": {},
   "source": [
    "## Question 4"
   ]
  },
  {
   "cell_type": "markdown",
   "metadata": {},
   "source": [
    "You should write your code in **SQL programming language**. Don't forgot that you can not run your code in this notebook."
   ]
  },
  {
   "cell_type": "markdown",
   "metadata": {},
   "source": [
    "Consider the \"Employee\" table below:"
   ]
  },
  {
   "cell_type": "markdown",
   "metadata": {},
   "source": [
    "| Emp_Id  | Emp_name  | Salary  | Manager_Id  |\n",
    "|---|---|---|---|\n",
    "| 10 | Anil  | 50000  |  18 |\n",
    "| 11 | Vikas  | 75000  |   16 |\n",
    "| 12 | Nisha | 40000 |  18 |\n",
    "| 13 | Nidhi  | 60000 | 17  |\n",
    "| 14 | Priya  | 80000 |  18 |\n",
    "| 15 | Mohit |  45000 |  18 |\n",
    "| 16 | Rajesh  | 90000 | -  |\n",
    "| 17 | Raman  | 55000 | 16  |\n",
    "| 18 | Santosh  | 65000 |  17 |"
   ]
  },
  {
   "cell_type": "markdown",
   "metadata": {},
   "source": [
    "Write a query to generate below output:"
   ]
  },
  {
   "cell_type": "markdown",
   "metadata": {},
   "source": [
    "| Manager_Id  | Manager  | Average_Salary_Under_Manager  |\n",
    "|---|---|---|\n",
    "| 16 | Rajesh  | 65000  |\n",
    "| 17 | Raman  | 62500  |\n",
    "| 18 | Santosh | 53750 |"
   ]
  },
  {
   "cell_type": "code",
   "execution_count": null,
   "metadata": {},
   "outputs": [],
   "source": [
    "#Write your SQL Code here.    \n",
    "SELECT   \n",
    "    Manager_Id,     \n",
    "    Emp_name AS Manager,     \n",
    "    AVG(Salary) AS Average_Salary_Under_Manager      \n",
    "FROM     \n",
    "    Employee    \n",
    "WHERE   \n",
    "    Manager_Id IS NOT NULL AND Manager_Id != '-'    \n",
    "GROUP BY   \n",
    "    Manager_Id,   \n",
    "    Emp_name;  "
   ]
  },
  {
   "cell_type": "markdown",
   "metadata": {},
   "source": [
    "##  Thank you.."
   ]
  }
 ],
 "metadata": {
  "environment": {
   "name": "tf2-gpu.2-1.m46",
   "type": "gcloud",
   "uri": "gcr.io/deeplearning-platform-release/tf2-gpu.2-1:m46"
  },
  "kernelspec": {
   "display_name": "Python 3 (ipykernel)",
   "language": "python",
   "name": "python3"
  },
  "language_info": {
   "codemirror_mode": {
    "name": "ipython",
    "version": 3
   },
   "file_extension": ".py",
   "mimetype": "text/x-python",
   "name": "python",
   "nbconvert_exporter": "python",
   "pygments_lexer": "ipython3",
   "version": "3.8.13"
  }
 },
 "nbformat": 4,
 "nbformat_minor": 4
}
